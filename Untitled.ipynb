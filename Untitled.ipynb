{
 "cells": [
  {
   "cell_type": "code",
   "execution_count": 99,
   "id": "ed467fd6",
   "metadata": {},
   "outputs": [
    {
     "name": "stdout",
     "output_type": "stream",
     "text": [
      "What would you like to do? Please select one of the following:\n",
      "1. Place an order\n",
      "2. Inventory Lookup\n",
      "2\n",
      "==============================================\n",
      "Inventory LookUp Options : \n",
      "==============================================\n",
      "1. Check for a product details\n",
      "2. Check for products that are to be restocked\n",
      "3. Check for product location in Warehouse\n",
      "4. Look for products with a brand name\n",
      "5. Look for products in a particular warehouse\n",
      "----------------------------------------------\n",
      "Your Lookup option : 1\n",
      "Please enter the product ID :5\n",
      "Information Result :\n",
      "--------------------\n",
      "              product_name brand warehouse selling_cost  reviews  quantity location\n",
      "TCL 6-Series with Mini LED   TCL        w1         $200      4.1         0 Aisle K4\n"
     ]
    }
   ],
   "source": [
    "import pandas as pd\n",
    "from csv import writer\n",
    "from datetime import datetime\n",
    "import random\n",
    "\n",
    "class Product:\n",
    "\n",
    "    def __init__(self):\n",
    "        self.products = pd.read_csv (r'product_ASE.csv')\n",
    "    \n",
    "    def getProductInfo(self, product_id):\n",
    "        self.products.reset_index(inplace=True)\n",
    "        self.products = self.products.rename(columns = {'index':'id'})\n",
    "        \n",
    "        final_product_set = self.products[self.products['id'] == product_id]\n",
    "        return final_product_set\n",
    "        \n",
    "    def update_product_quantity(self, product_id):\n",
    "        product_quanity = self.products.at[product_id, 'quantity']\n",
    "        if product_quanity > 1:\n",
    "            self.products.loc[product_id, 'quantity'] = product_quanity - 1\n",
    "        else:\n",
    "            self.products.loc[product_id, 'quantity'] = 0\n",
    "        self.products.to_csv(\"product_ASE.csv\", index=False)\n",
    "\n",
    "class Customer:\n",
    "    \n",
    "    def __init__(self):\n",
    "        self.customers = pd.read_csv (r'customer_ASE.csv')\n",
    "        self.sales_tax = self.customers.sale_percentage\n",
    "        \n",
    "    def createCustomer(self,phone_number, customer_details):\n",
    "        List = [customer_details[0], phone_number, customer_details[1],\"customer\",round(random.uniform(0, 5),1)]\n",
    "        with open('customer_ASE.csv', 'a') as f_object:\n",
    "            writer_object = writer(f_object)\n",
    "            writer_object.writerow(List)\n",
    "            f_object.close()\n",
    "        \n",
    "    def getCustomerDetails(self,phone_number):\n",
    "        self.customers.reset_index(inplace=True)\n",
    "        customer = self.customers.rename(columns = {'index':'id'})\n",
    "        val = self.customers[self.customers['phone_number']==int(phone_number)] \n",
    "        return val \n",
    "    \n",
    "    def hasValidPhonenumber(self,customer_phone_number):\n",
    "        if (len(customer_phone_number)) == 10:\n",
    "            return True\n",
    "        else:\n",
    "            return False\n",
    "\n",
    "class invoice(Product):\n",
    "\n",
    "    def __init__(self):\n",
    "        self.invoice = pd.read_csv (r'invoice_ASE.csv')\n",
    "        self.invoice.reset_index(inplace=True)\n",
    "        self.invoice = self.invoice.rename(columns = {'index':'id'})\n",
    "        \n",
    "    def createInvoice(self,product_id, mode_of_payment, customer_phone_number, shipment_type):\n",
    "        c = Customer()\n",
    "        customer = c.getCustomerDetails(customer_phone_number)\n",
    "        date_time_value = datetime.now()\n",
    "        List = [customer.index.values[0],mode_of_payment,date_time_value,shipment_type]\n",
    "\n",
    "        with open('invoice_ASE.csv', 'a') as f_object:\n",
    "            writer_object = writer(f_object)\n",
    "            writer_object.writerow(List)\n",
    "            f_object.close()\n",
    "        \n",
    "        newly_created_invoice_id = self.invoice.tail(1).id.values[0]\n",
    "        \n",
    "        p = Product()\n",
    "        ph = PurchaseHistory()\n",
    "        for product_id_value in product_id:\n",
    "            ph.addPurchasedProducts(newly_created_invoice_id,product_id_value,customer_phone_number)\n",
    "            \n",
    "            #CALL TO UPDATE PRODUCT QUANTITY\n",
    "            p.update_product_quantity(product_id_value)\n",
    "        \n",
    "        return self.invoice.tail(1).id.values[0]\n",
    "    \n",
    "    def displayInvoice(self,invoice_id,customer,list_of_products_purchased,delivery_fee,sum_paid_at_time_of_purchase,sales_tax_value):\n",
    "        print(\"==============================================\")\n",
    "        print(\"INVOICE :\".ljust(40)+\"#\"+str(invoice_id))\n",
    "        print(\"==============================================\")\n",
    "        print(\"Customer details :\")\n",
    "        print(\"Name\".ljust(20)+customer.name.values[0])\n",
    "        print(\"Phone Number\".ljust(20)+str(customer.phone_number.values[0]))\n",
    "        print(\"Address\".ljust(20)+str(customer.address.values[0]))\n",
    "        print(\"==============================================\")\n",
    "        print(\"Purchased Products :\")\n",
    "        print(\"==============================================\")\n",
    "        purchase_value = 0\n",
    "        \n",
    "        for product_id in list_of_products_purchased:\n",
    "            p = Product()\n",
    "            product_item = p.getProductInfo(product_id)\n",
    "            purchase_value += int(product_item.selling_cost.values[0][1:])\n",
    "            print((product_item.product_name.to_string(index=False).ljust(40) + product_item.selling_cost.to_string(index=False)).expandtabs(30))\n",
    "        \n",
    "        if delivery_fee > 0: \n",
    "            print(\"Delivery fee\".ljust(40)+\"$\"+str(delivery_fee))\n",
    "            purchase_value += delivery_fee\n",
    "\n",
    "        print(\"----------------------------------------------\")\n",
    "        print(\"Purchase Value\".ljust(40)+\"$\"+str(purchase_value))\n",
    "        print(\"Sales tax\".ljust(40)+\"$\"+str(sales_tax_value))\n",
    "        total_purchase_value = purchase_value + sales_tax_value\n",
    "        print(\"----------------------------------------------\")\n",
    "        print(\"Total Purchase Value\".ljust(40)+\"$\"+str(total_purchase_value))\n",
    "        print(\"Sum Paid at time of purchase\".ljust(40)+\"$\"+str(sum_paid_at_time_of_purchase))\n",
    "        print(\"----------------------------------------------\")\n",
    "        print(\"Due Amount\".ljust(40)+\"$\"+str(round((total_purchase_value - sum_paid_at_time_of_purchase),2)))\n",
    "        print(\"----------------------------------------------\")\n",
    "\n",
    "class PurchaseHistory:\n",
    "    \n",
    "    def __init__(self):\n",
    "        self.purchaseHistory = pd.read_csv (r'purchase_history_ASE.csv')\n",
    "        \n",
    "    def addPurchasedProducts(self, invoice_id, product_id,customer_phone_number):\n",
    "        Row_value_to_be_inserted = [invoice_id,product_id,customer_phone_number]\n",
    "        with open('purchase_history_ASE.csv', 'a') as f_object:\n",
    "            writer_object = writer(f_object)\n",
    "            writer_object.writerow(Row_value_to_be_inserted)\n",
    "            f_object.close()\n",
    "\n",
    "class Warehouse(Product):\n",
    "    def lookupProductsUnderABrand(self,brand_name):\n",
    "        if brand_name in list(self.products['brand']):\n",
    "            products_with_the_give_brand = self.products[self.products['brand']== brand_name]\n",
    "            print(\"Products under the brand : \"+brand_name)\n",
    "            print(\"=======================================================================================\")\n",
    "            print(products_with_the_give_brand.to_string(index=False))  \n",
    "            print(\"---------------------------------------------------------------------------------------\")\n",
    "            return self.products[self.products['brand']== brand_name]\n",
    "        else:\n",
    "            return \"Product unavailable !\"\n",
    "\n",
    "        \n",
    "    def lookupProductsInAWarehouse(self,warehouse_id):\n",
    "        if warehouse_id in [1,2]:\n",
    "            products_in_the_given_warehouse = self.products[self.products['warehouse']== \"w\" + str(warehouse_id)]\n",
    "            print(\"Products under the warehouse : w\"+str(warehouse_id))\n",
    "            print(\"=======================================================================================\")\n",
    "            print(products_in_the_given_warehouse.to_string(index=False))\n",
    "            print(\"---------------------------------------------------------------------------------------\")\n",
    "            return self.products[self.products['warehouse']== \"w\" + str(warehouse_id)]\n",
    "        else:\n",
    "            return \"warehouse ID unavailable!\"\n",
    "\n",
    "class SalesPerson:\n",
    "    \n",
    "    def addSalesCommission(sales_person_id, commission_value):\n",
    "        if sales_person_id in [1001,1001]:\n",
    "            Row_value_to_be_inserted = [sales_person_id,commission_value,datetime.now()]\n",
    "            with open('sales_commission.csv', 'a') as f_object:\n",
    "                writer_object = writer(f_object)\n",
    "                writer_object.writerow(Row_value_to_be_inserted)\n",
    "                f_object.close()\n",
    "            return Row_value_to_be_inserted\n",
    "        else:\n",
    "            return \"Enter valid customer ID\"\n",
    "\n",
    "def main():\n",
    "\n",
    "    print(\"What would you like to do? Please select one of the following:\")\n",
    "    print(\"1. Place an order\")\n",
    "    print(\"2. Inventory Lookup\")\n",
    "    \n",
    "    selected_choice = input()\n",
    "    if selected_choice == \"1\":\n",
    "        customer_phone_number = input(\"Enter customer's phone number : \")\n",
    "        c = Customer()\n",
    "        if not c.hasValidPhonenumber(customer_phone_number):\n",
    "            print(\"Please enter a Valid Phone Number!\")\n",
    "            return\n",
    "        customer = c.getCustomerDetails(customer_phone_number)\n",
    "        if customer.empty:\n",
    "            print(\"OOPS! Unfortunately the database don't have any details about this customer! Please provide the following details to place an order. Thank you!\")\n",
    "            name = input(\"Enter the customer name \")\n",
    "            address = input(\"Enter the customer address \")\n",
    "            c.createCustomer(customer_phone_number,[name,address,\"customer\"])\n",
    "        print(\"==============================================\") \n",
    "        print(\"LIST OF PRODUCTS AVAILABLE IN THE STORE : \")\n",
    "        print(\"==============================================\")\n",
    "        set_of_all_products = Product()\n",
    "        print(set_of_all_products.products.loc[:, ~set_of_all_products.products.columns.isin(['id', 'cost_price'])])\n",
    "            \n",
    "        list_of_products_to_be_purchased = []\n",
    "        condition_to_stop_product_addition = 'Yes'\n",
    "        while condition_to_stop_product_addition == \"Yes\":\n",
    "            product_id = input(\"Enter the product ID: \")\n",
    "            list_of_products_to_be_purchased.append(int(product_id))\n",
    "            condition_to_stop_product_addition = input(\"do you want to add more products to the purchase list ? Yes / No? \\n \")\n",
    "            if condition_to_stop_product_addition.lower() != \"yes\":\n",
    "                break\n",
    "            \n",
    "        i = invoice()\n",
    "        c = Customer()\n",
    "    \n",
    "        salesperson_during_purchase = int(input(\"ID of the sales person (Valid IDs available = 1001 / 1011) : \"))\n",
    "        mode_of_payment = input(\"How would the customer like to make the payment ? Cash / Card ? \")\n",
    "        shipment_type = input(\"Is it a home delivery order or a take-away order ? \")\n",
    "        \n",
    "        print(\"==============================================\")\n",
    "        print(\"LIST OF PRODUCTS ADDED TO THE CART :\")\n",
    "        print(\"==============================================\")\n",
    "        purchase_value = 0\n",
    "        for product_id in list_of_products_to_be_purchased:\n",
    "            p = Product()\n",
    "            product_item = p.getProductInfo(product_id)\n",
    "            purchase_value += int(product_item.selling_cost.values[0][1:])\n",
    "            print((product_item.product_name.to_string(index=False).ljust(40) + product_item.selling_cost.to_string(index=False)).expandtabs(30))\n",
    "        \n",
    "        if shipment_type.lower() in \"home delivery\":\n",
    "            delivery_fee = 5\n",
    "            print(\"Delivery fee\".ljust(40)+\"$\"+str(delivery_fee))\n",
    "            purchase_value += delivery_fee\n",
    "            \n",
    "        sales_tax_value = purchase_value * ((customer.sale_percentage.values[0])/100)\n",
    "        print(\"----------------------------------------------\")\n",
    "        print(\"Purchase Value\".ljust(40)+\"$\"+str(purchase_value))\n",
    "        print(\"Sales tax\".ljust(40)+\"$\"+str(sales_tax_value))\n",
    "        total_purchase_value = purchase_value + sales_tax_value\n",
    "        print(\"----------------------------------------------\")\n",
    "        print(\"Total Purchase Value\".ljust(40)+\"$\"+str(total_purchase_value))\n",
    "        print(\"----------------------------------------------\")\n",
    "        \n",
    "        permission_to_proceed = input(\"do you want to proceed ?\")\n",
    "        if permission_to_proceed.lower() == \"yes\":\n",
    "            \n",
    "            sum_paid_at_time_of_purchase = float(input(\"Amount paid : \"))\n",
    "            \n",
    "            latest_invoice_id = i.createInvoice(list_of_products_to_be_purchased, mode_of_payment, customer_phone_number, shipment_type)\n",
    "            print(\"The order has been placed with invoice ID : \"+str(latest_invoice_id))\n",
    "            \n",
    "            i.displayInvoice(latest_invoice_id,customer,list_of_products_to_be_purchased,delivery_fee,sum_paid_at_time_of_purchase,sales_tax_value)\n",
    "            SalesPerson.addSalesCommission(latest_invoice_id, total_purchase_value * (round(random.uniform(5, 10),2)/100)) \n",
    "            \n",
    "        else:\n",
    "            print(\"Purchase Aborted ! Thank you!\")\n",
    "            return\n",
    "        \n",
    "    elif selected_choice == \"2\":\n",
    "        p = Product()\n",
    "        print(\"==============================================\")\n",
    "        print(\"Inventory LookUp Options : \")\n",
    "        print(\"==============================================\")\n",
    "        print(\"1. Check for a product details\")\n",
    "        print(\"2. Check for products that are to be restocked\")\n",
    "        print(\"3. Check for product location in Warehouse\")\n",
    "        print(\"4. Look for products with a brand name\")\n",
    "        print(\"5. Look for products in a particular warehouse\")\n",
    "        print(\"----------------------------------------------\")\n",
    "        warehouse_lookup = Warehouse()\n",
    "        lookup_option = int(input(\"Your Lookup option : \"))\n",
    "        if lookup_option == 1:\n",
    "            product_id = int(input(\"Please enter the product ID :\"))\n",
    "            product_details = p.getProductInfo(product_id)\n",
    "            print(\"Information Result :\")\n",
    "            print(\"--------------------\")\n",
    "            print(product_details.loc[:, ~product_details.columns.isin(['id', 'cost_price', 'category'])].to_string(index=False))\n",
    "        elif lookup_option == 2:\n",
    "            print(p.products[p.products[\"quantity\"]<5].loc[:, ~p.products.columns.isin(['id', 'cost_price'])])\n",
    "        elif lookup_option == 3:\n",
    "            product_id = int(input(\"Please enter the product ID :\"))\n",
    "            product_details = p.getProductInfo(product_id)\n",
    "            print(\"==============================================\")\n",
    "            print(\"Product : #\"+str(product_id))\n",
    "            print(\"==============================================\")\n",
    "            print(\"Warehouse\".ljust(30)+product_details[\"warehouse\"].values[0])\n",
    "            print(\"Location\".ljust(30)+product_details[\"location\"].values[0])\n",
    "            print(\"----------------------------------------------\")\n",
    "        elif lookup_option == 4:\n",
    "            brand_name = input(\"Enter the brand name : \")\n",
    "            warehouse_lookup.lookupProductsUnderABrand(brand_name)\n",
    "        elif lookup_option == 5:\n",
    "            warehouse_id = input(\"Enter the warehouse ID : \")\n",
    "            warehouse_lookup.lookupProductsInAWarehouse(warehouse_id)\n",
    "        else:\n",
    "            print(\"oops, you didnt enter any option. Try again Later!\")\n",
    "    \n",
    "if __name__ == \"__main__\":\n",
    "    main()"
   ]
  },
  {
   "cell_type": "code",
   "execution_count": 18,
   "id": "a6b5fde4",
   "metadata": {},
   "outputs": [
    {
     "name": "stdout",
     "output_type": "stream",
     "text": [
      "    index                     name  phone_number                  address  \\\n",
      "16     16  Shruthi Venkatachalam 1    5622537022  123 Ave, Long Beach, CA   \n",
      "\n",
      "        role  sale_percentage  \n",
      "16  customer              3.0  \n"
     ]
    },
    {
     "data": {
      "text/plain": [
       "{'index': {16: 16},\n",
       " 'name': {16: 'Shruthi Venkatachalam 1'},\n",
       " 'phone_number': {16: 5622537022},\n",
       " 'address': {16: '123 Ave, Long Beach, CA'},\n",
       " 'role': {16: 'customer'},\n",
       " 'sale_percentage': {16: 3.0}}"
      ]
     },
     "execution_count": 18,
     "metadata": {},
     "output_type": "execute_result"
    }
   ],
   "source": [
    "c = Customer()\n",
    "cust = c.getCustomerDetails(\"5622537022\")\n",
    "cust.to_dict()"
   ]
  },
  {
   "cell_type": "code",
   "execution_count": 21,
   "id": "71fd55f3",
   "metadata": {
    "scrolled": true
   },
   "outputs": [
    {
     "data": {
      "text/plain": [
       "{'id': {},\n",
       " 'product_name': {},\n",
       " 'brand': {},\n",
       " 'warehouse': {},\n",
       " 'selling_cost': {},\n",
       " 'reviews': {},\n",
       " 'cost_price': {},\n",
       " 'quantity': {},\n",
       " 'category': {},\n",
       " 'location': {}}"
      ]
     },
     "execution_count": 21,
     "metadata": {},
     "output_type": "execute_result"
    }
   ],
   "source": [
    "p = Product()\n",
    "p.getProductInfo(300).to_dict()"
   ]
  },
  {
   "cell_type": "code",
   "execution_count": 36,
   "id": "f7388171",
   "metadata": {},
   "outputs": [
    {
     "data": {
      "text/plain": [
       "'Enter valid customer ID'"
      ]
     },
     "execution_count": 36,
     "metadata": {},
     "output_type": "execute_result"
    }
   ],
   "source": [
    "SalesPerson.addSalesCommission(1002, 10)"
   ]
  },
  {
   "cell_type": "code",
   "execution_count": 61,
   "id": "889d16a8",
   "metadata": {},
   "outputs": [
    {
     "name": "stdout",
     "output_type": "stream",
     "text": [
      "Products under the brand : LG\n",
      "=======================================================================================\n",
      "             product_name brand warehouse selling_cost  reviews cost_price  quantity category  location\n",
      "LG G1 Gallery Series OLED    LG        w2         $200      3.7       $300         0       TV Aisle K14\n",
      "     LG C1 Series OLED TV    LG        w2         $200      5.0       $300        72       TV Aisle K11\n",
      "---------------------------------------------------------------------------------------\n"
     ]
    },
    {
     "data": {
      "text/plain": [
       "['product_name',\n",
       " 'brand',\n",
       " 'warehouse',\n",
       " 'selling_cost',\n",
       " 'reviews',\n",
       " 'cost_price',\n",
       " 'quantity',\n",
       " 'category',\n",
       " 'location']"
      ]
     },
     "execution_count": 61,
     "metadata": {},
     "output_type": "execute_result"
    }
   ],
   "source": [
    "w = Warehouse()\n",
    "list(w.lookupProductsUnderABrand(\"LG\"))"
   ]
  },
  {
   "cell_type": "code",
   "execution_count": 91,
   "id": "9b62e589",
   "metadata": {},
   "outputs": [
    {
     "data": {
      "text/plain": [
       "'warehouse ID unavailable!'"
      ]
     },
     "execution_count": 91,
     "metadata": {},
     "output_type": "execute_result"
    }
   ],
   "source": [
    "w = Warehouse()\n",
    "w.lookupProductsInAWarehouse(1)"
   ]
  },
  {
   "cell_type": "code",
   "execution_count": 101,
   "id": "d6a22e97",
   "metadata": {},
   "outputs": [
    {
     "name": "stdout",
     "output_type": "stream",
     "text": [
      "Products under the brand : LG\n",
      "=======================================================================================\n",
      "             product_name brand warehouse selling_cost  reviews cost_price  quantity category  location\n",
      "LG G1 Gallery Series OLED    LG        w2         $200      3.7       $300         0       TV Aisle K14\n",
      "     LG C1 Series OLED TV    LG        w2         $200      5.0       $300        72       TV Aisle K11\n",
      "---------------------------------------------------------------------------------------\n"
     ]
    },
    {
     "data": {
      "text/plain": [
       "{'product_name': {1: 'LG G1 Gallery Series OLED', 2: 'LG C1 Series OLED TV'},\n",
       " 'brand': {1: 'LG', 2: 'LG'},\n",
       " 'warehouse': {1: 'w2', 2: 'w2'},\n",
       " 'selling_cost': {1: '$200', 2: '$200'},\n",
       " 'reviews': {1: 3.7, 2: 5.0},\n",
       " 'cost_price': {1: '$300', 2: '$300'},\n",
       " 'quantity': {1: 0, 2: 72},\n",
       " 'category': {1: 'TV', 2: 'TV'},\n",
       " 'location': {1: 'Aisle K14', 2: 'Aisle K11'}}"
      ]
     },
     "execution_count": 101,
     "metadata": {},
     "output_type": "execute_result"
    }
   ],
   "source": [
    "w1 = Warehouse()\n",
    "w1.lookupProductsUnderABrand(\"LG\").to_dict()"
   ]
  },
  {
   "cell_type": "code",
   "execution_count": 97,
   "id": "44ab29a1",
   "metadata": {
    "scrolled": true
   },
   "outputs": [
    {
     "data": {
      "text/plain": [
       "'warehouse ID unavailable!'"
      ]
     },
     "execution_count": 97,
     "metadata": {},
     "output_type": "execute_result"
    }
   ],
   "source": [
    "w = Warehouse()\n",
    "w.lookupProductsInAWarehouse(10)"
   ]
  },
  {
   "cell_type": "code",
   "execution_count": null,
   "id": "e41b7f99",
   "metadata": {},
   "outputs": [],
   "source": []
  }
 ],
 "metadata": {
  "kernelspec": {
   "display_name": "Python 3 (ipykernel)",
   "language": "python",
   "name": "python3"
  },
  "language_info": {
   "codemirror_mode": {
    "name": "ipython",
    "version": 3
   },
   "file_extension": ".py",
   "mimetype": "text/x-python",
   "name": "python",
   "nbconvert_exporter": "python",
   "pygments_lexer": "ipython3",
   "version": "3.8.9"
  }
 },
 "nbformat": 4,
 "nbformat_minor": 5
}
