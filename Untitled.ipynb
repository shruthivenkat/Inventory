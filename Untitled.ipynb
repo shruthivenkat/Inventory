{
 "cells": [
  {
   "cell_type": "code",
   "execution_count": 1,
   "id": "c5f57325",
   "metadata": {},
   "outputs": [],
   "source": [
    "import pandas as pd\n",
    "from csv import writer\n"
   ]
  },
  {
   "cell_type": "code",
   "execution_count": 2,
   "id": "4090e5dc",
   "metadata": {},
   "outputs": [],
   "source": [
    "class Product:\n",
    "    # HINT TO TEST THE CODE : \n",
    "    # p = Product()\n",
    "    # p.getProductInfo(1)\n",
    "\n",
    "    def __init__(self):\n",
    "        self.products = pd.read_csv (r'product_ASE.csv')\n",
    "    \n",
    "    def getProductInfo(self, product_id):\n",
    "        self.products.reset_index(inplace=True)\n",
    "        self.products = self.products.rename(columns = {'index':'id'})\n",
    "        \n",
    "        final_product_set = self.products[self.products['id'] == product_id]\n",
    "        return final_product_set"
   ]
  },
  {
   "cell_type": "code",
   "execution_count": 4,
   "id": "d62ee2b5",
   "metadata": {},
   "outputs": [
    {
     "data": {
      "text/html": [
       "<div>\n",
       "<style scoped>\n",
       "    .dataframe tbody tr th:only-of-type {\n",
       "        vertical-align: middle;\n",
       "    }\n",
       "\n",
       "    .dataframe tbody tr th {\n",
       "        vertical-align: top;\n",
       "    }\n",
       "\n",
       "    .dataframe thead th {\n",
       "        text-align: right;\n",
       "    }\n",
       "</style>\n",
       "<table border=\"1\" class=\"dataframe\">\n",
       "  <thead>\n",
       "    <tr style=\"text-align: right;\">\n",
       "      <th></th>\n",
       "      <th>id</th>\n",
       "      <th>product_name</th>\n",
       "      <th>brand</th>\n",
       "      <th>warehouse</th>\n",
       "      <th>selling_cost</th>\n",
       "      <th>reviews</th>\n",
       "      <th>cost_price</th>\n",
       "      <th>quantity</th>\n",
       "    </tr>\n",
       "  </thead>\n",
       "  <tbody>\n",
       "    <tr>\n",
       "      <th>1</th>\n",
       "      <td>1</td>\n",
       "      <td>LG G1 Gallery Series OLED</td>\n",
       "      <td>LG</td>\n",
       "      <td>w2</td>\n",
       "      <td>$200</td>\n",
       "      <td>3.7</td>\n",
       "      <td>$300</td>\n",
       "      <td>1</td>\n",
       "    </tr>\n",
       "  </tbody>\n",
       "</table>\n",
       "</div>"
      ],
      "text/plain": [
       "   id               product_name brand warehouse selling_cost  reviews  \\\n",
       "1   1  LG G1 Gallery Series OLED    LG        w2         $200      3.7   \n",
       "\n",
       "  cost_price  quantity  \n",
       "1       $300         1  "
      ]
     },
     "execution_count": 4,
     "metadata": {},
     "output_type": "execute_result"
    }
   ],
   "source": [
    "p = Product()\n",
    "p.getProductInfo(1)"
   ]
  },
  {
   "cell_type": "code",
   "execution_count": null,
   "id": "6aa2c0af",
   "metadata": {},
   "outputs": [],
   "source": []
  }
 ],
 "metadata": {
  "kernelspec": {
   "display_name": "Python 3 (ipykernel)",
   "language": "python",
   "name": "python3"
  },
  "language_info": {
   "codemirror_mode": {
    "name": "ipython",
    "version": 3
   },
   "file_extension": ".py",
   "mimetype": "text/x-python",
   "name": "python",
   "nbconvert_exporter": "python",
   "pygments_lexer": "ipython3",
   "version": "3.8.9"
  }
 },
 "nbformat": 4,
 "nbformat_minor": 5
}
